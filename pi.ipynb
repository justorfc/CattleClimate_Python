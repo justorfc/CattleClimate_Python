{
  "nbformat": 4,
  "nbformat_minor": 0,
  "metadata": {
    "colab": {
      "provenance": [],
      "authorship_tag": "ABX9TyMvnSAbD+01AcAhNAzPzIwC",
      "include_colab_link": true
    },
    "kernelspec": {
      "name": "python3",
      "display_name": "Python 3"
    },
    "language_info": {
      "name": "python"
    }
  },
  "cells": [
    {
      "cell_type": "markdown",
      "metadata": {
        "id": "view-in-github",
        "colab_type": "text"
      },
      "source": [
        "<a href=\"https://colab.research.google.com/github/justorfc/CattleClimate_Python/blob/main/pi.ipynb\" target=\"_parent\"><img src=\"https://colab.research.google.com/assets/colab-badge.svg\" alt=\"Open In Colab\"/></a>"
      ]
    },
    {
      "cell_type": "code",
      "execution_count": null,
      "metadata": {
        "id": "IGAxoE2-ylSA"
      },
      "outputs": [],
      "source": []
    },
    {
      "cell_type": "code",
      "metadata": {
        "colab": {
          "base_uri": "https://localhost:8080/"
        },
        "id": "208eee39",
        "outputId": "a34f65ed-1b33-48e6-9c69-13c9e98e9fb2"
      },
      "source": [
        "import math\n",
        "\n",
        "# Define el radio de un círculo\n",
        "radio = 5\n",
        "\n",
        "# Calcula el diámetro\n",
        "diametro = 2 * radio\n",
        "\n",
        "# Calcula la circunferencia (usando el valor de Pi de math para la demostración)\n",
        "circunferencia = 2 * math.pi * radio\n",
        "\n",
        "# Calcula Pi usando la definición: Circunferencia / Diámetro\n",
        "pi_calculado = circunferencia / diametro\n",
        "\n",
        "print(f\"Radio: {radio}\")\n",
        "print(f\"Diámetro: {diametro}\")\n",
        "print(f\"Circunferencia (usando math.pi): {circunferencia}\")\n",
        "print(f\"Valor de Pi calculado (Circunferencia / Diámetro): {pi_calculado}\")\n",
        "print(f\"Valor de Pi de math.pi: {math.pi}\")"
      ],
      "execution_count": 1,
      "outputs": [
        {
          "output_type": "stream",
          "name": "stdout",
          "text": [
            "Radio: 5\n",
            "Diámetro: 10\n",
            "Circunferencia (usando math.pi): 31.41592653589793\n",
            "Valor de Pi calculado (Circunferencia / Diámetro): 3.141592653589793\n",
            "Valor de Pi de math.pi: 3.141592653589793\n"
          ]
        }
      ]
    },
    {
      "cell_type": "markdown",
      "source": [
        "Claro, te explico la fascinante serie de Ramanujan para calcular $\\\\pi$ y cómo implementarla en Python. Esta es una de las fórmulas más eficientes y famosas para aproximar el valor de $\\\\pi$, y es un excelente ejemplo para tus clases.\n",
        "\n",
        "### La Serie de Ramanujan para $\\\\pi$\n",
        "\n",
        "Srinivasa Ramanujan, un genio matemático indio, descubrió varias series infinitas para calcular $\\\\pi$ con una velocidad de convergencia asombrosa. Una de sus fórmulas más conocidas, descubierta en 1910, es la siguiente:\n",
        "\n",
        "$$\\frac{1}{\\pi} = \\frac{2\\sqrt{2}}{9801} \\sum_{k=0}^{\\infty} \\frac{(4k)!(1103 + 26390k)}{(k!)^4 396^{4k}}$$\n",
        "\n",
        "Vamos a desglosar esta fórmula:\n",
        "\n",
        "  * **Suma infinita ($\\\\sum\\_{k=0}^{\\\\infty}$)**: Indica que debemos sumar una serie de términos, comenzando con $k=0$, luego $k=1$, $k=2$, y así sucesivamente hasta el infinito. En la práctica, con solo unos pocos términos, la aproximación a $\\\\pi$ ya es increíblemente precisa.\n",
        "  * **Factorial ($(4k)\\!$ y $(k\\!)^4$)**: El factorial (`!`) es el producto de todos los enteros positivos hasta ese número. Por ejemplo, $5\\! = 5 \\\\times 4 \\\\times 3 \\\\times 2 \\\\times 1$. Estos términos crecen muy rápidamente.\n",
        "  * **Términos clave**:\n",
        "      * `1103 + 26390k`: Un término lineal que aumenta con cada iteración.\n",
        "      * `396^{4k}`: Una base exponencial que también crece enormemente, haciendo que cada término de la suma sea mucho más pequeño que el anterior. Esto es clave para que la serie converja rápidamente.\n",
        "  * **Constante ($\\\\frac{2\\\\sqrt{2}}{9801}$)**: Es un factor constante que multiplica a toda la suma.\n",
        "\n",
        "Lo impresionante de esta fórmula es que **cada término de la suma añade aproximadamente 8 dígitos correctos a la aproximación de $\\\\pi$**. Con el primer término ($k=0$), ya se obtiene una muy buena aproximación.\n",
        "\n",
        "-----\n",
        "\n",
        "### Implementación en Código Python\n",
        "\n",
        "Para implementar esta serie en Python, necesitamos una forma de calcular los factoriales. El módulo `math` de Python es perfecto para esto. A continuación, te muestro el código comentado paso a paso, ideal para usar en tus cuadernos de Google Colab.\n",
        "\n",
        "#### Código en Python\n",
        "\n",
        "```python\n",
        "import math\n",
        "\n",
        "def ramanujan_pi_series(num_terminos):\n",
        "    \"\"\"\n",
        "    Calcula una aproximación de pi usando la serie de Ramanujan.\n",
        "\n",
        "    Args:\n",
        "        num_terminos (int): El número de términos (k) a usar en la suma de la serie.\n",
        "\n",
        "    Returns:\n",
        "        float: Una aproximación del valor de pi.\n",
        "    \"\"\"\n",
        "    suma = 0.0\n",
        "    # Constante fuera de la sumatoria\n",
        "    constante = (2 * math.sqrt(2)) / 9801\n",
        "\n",
        "    for k in range(num_terminos):\n",
        "        # Calculamos el numerador de la fracción dentro de la sumatoria\n",
        "        numerador = math.factorial(4 * k) * (1103 + 26390 * k)\n",
        "        \n",
        "        # Calculamos el denominador de la fracción dentro de la sumatoria\n",
        "        denominador = (math.factorial(k)**4) * (396**(4 * k))\n",
        "        \n",
        "        # Sumamos el término actual\n",
        "        termino_actual = numerador / denominador\n",
        "        suma += termino_actual\n",
        "        \n",
        "    # La fórmula original calcula 1/pi\n",
        "    inverso_pi = constante * suma\n",
        "    \n",
        "    # Para obtener pi, calculamos el inverso\n",
        "    pi_aproximado = 1 / inverso_pi\n",
        "    \n",
        "    return pi_aproximado\n",
        "\n",
        "# --- Pruebas de la función ---\n",
        "\n",
        "# Con solo un término (k=0)\n",
        "pi_aprox_1 = ramanujan_pi_series(1)\n",
        "print(f\"Aproximación con 1 término (k=0): {pi_aprox_1}\")\n",
        "print(f\"Valor real de pi (math.pi):      {math.pi}\")\n",
        "print(\"-\" * 35)\n",
        "\n",
        "# Con dos términos (k=0 y k=1)\n",
        "pi_aprox_2 = ramanujan_pi_series(2)\n",
        "print(f\"Aproximación con 2 términos (k=0,1): {pi_aprox_2}\")\n",
        "print(f\"Valor real de pi (math.pi):         {math.pi}\")\n",
        "print(\"-\" * 35)\n",
        "\n",
        "# Con tres términos (k=0, 1 y 2)\n",
        "pi_aprox_3 = ramanujan_pi_series(3)\n",
        "print(f\"Aproximación con 3 términos: {pi_aprox_3}\")\n",
        "print(f\"Valor real de pi (math.pi):  {math.pi}\")\n",
        "```\n",
        "\n",
        "#### Explicación del Código\n",
        "\n",
        "1.  **`import math`**: Importamos la biblioteca `math` para acceder a funciones matemáticas como la raíz cuadrada (`math.sqrt`) y el factorial (`math.factorial`). También la usamos para obtener el valor de referencia de `math.pi`.\n",
        "2.  **`def ramanujan_pi_series(num_terminos):`**: Definimos una función que toma como argumento el número de términos que queremos usar para la suma. `num_terminos` corresponde al valor hasta donde llegará `k` (sin incluirlo).\n",
        "3.  **`suma = 0.0`**: Inicializamos una variable `suma` en 0.0 (como flotante) para ir acumulando el resultado de cada término de la serie.\n",
        "4.  **`constante = (2 * math.sqrt(2)) / 9801`**: Calculamos la constante que multiplica a toda la sumatoria.\n",
        "5.  **`for k in range(num_terminos):`**: Este bucle `for` iterará desde `k=0` hasta `num_terminos - 1`. En cada iteración, `k` tomará los valores 0, 1, 2, etc.\n",
        "6.  **Cálculo del `numerador` y `denominador`**: Dentro del bucle, traducimos directamente las partes de la fórmula matemática a código Python.\n",
        "      * `math.factorial(4 * k) * (1103 + 26390 * k)`\n",
        "      * `(math.factorial(k)**4) * (396**(4 * k))`\n",
        "7.  **`suma += ...`**: Calculamos el valor del término actual (`numerador / denominador`) y lo añadimos a nuestra variable `suma`.\n",
        "8.  **`inverso_pi = constante * suma`**: Al final del bucle, multiplicamos la suma total por la constante. Según la fórmula, este resultado es una aproximación de $\\\\frac{1}{\\\\pi}$.\n",
        "9.  **`pi_aproximado = 1 / inverso_pi`**: Para obtener $\\\\pi$, simplemente calculamos el inverso del resultado anterior.\n",
        "10. **`return pi_aproximado`**: La función devuelve la aproximación de $\\\\pi$ calculada.\n",
        "\n",
        "Como puedes ver en la salida del código, con solo el primer término (`k=0`), la aproximación ya es correcta hasta el sexto decimal. ¡Con dos términos, la precisión es asombrosa y supera la capacidad de representación estándar de los números de punto flotante en Python\\!\n",
        "\n",
        "Este ejemplo es excelente para tus cursos de \"Programación de Computadoras con Python\" para ilustrar bucles, funciones y el uso de módulos como `math`. Además, en \"Estadística Aplicada con Python y R\", puede servir como una introducción a las series infinitas y la convergencia, conceptos fundamentales en cálculo y estadística."
      ],
      "metadata": {
        "id": "dLzkICJo29_O"
      }
    },
    {
      "cell_type": "code",
      "source": [],
      "metadata": {
        "id": "jWwOI_XS3DEM"
      },
      "execution_count": null,
      "outputs": []
    }
  ]
}