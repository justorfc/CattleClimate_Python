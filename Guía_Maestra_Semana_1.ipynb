{
  "nbformat": 4,
  "nbformat_minor": 0,
  "metadata": {
    "colab": {
      "provenance": [],
      "authorship_tag": "ABX9TyPNXKWHmMaXds1BycE899ox",
      "include_colab_link": true
    },
    "kernelspec": {
      "name": "python3",
      "display_name": "Python 3"
    },
    "language_info": {
      "name": "python"
    }
  },
  "cells": [
    {
      "cell_type": "markdown",
      "metadata": {
        "id": "view-in-github",
        "colab_type": "text"
      },
      "source": [
        "<a href=\"https://colab.research.google.com/github/justorfc/CattleClimate_Python/blob/main/Gu%C3%ADa_Maestra_Semana_1.ipynb\" target=\"_parent\"><img src=\"https://colab.research.google.com/assets/colab-badge.svg\" alt=\"Open In Colab\"/></a>"
      ]
    },
    {
      "cell_type": "code",
      "execution_count": 2,
      "metadata": {
        "id": "9m1iFK0r3WJH"
      },
      "outputs": [],
      "source": [
        "# 1. Variables y tipos de datos\n",
        "nombre_estudiante = \"Juan Pérez\"\n",
        "edad = 20\n",
        "promedio = 4.2\n",
        "es_regular = True"
      ]
    },
    {
      "cell_type": "code",
      "source": [
        "# 2. La función print() para mostrar información\n",
        "print(\"Datos del Estudiante:\")\n",
        "print(\"Nombre:\", nombre_estudiante)\n",
        "print(f\"Edad: {edad} años\") # Usando f-strings, una forma moderna y útil"
      ],
      "metadata": {
        "colab": {
          "base_uri": "https://localhost:8080/"
        },
        "id": "TtkliKUm3p-z",
        "outputId": "a765012c-8f6e-414c-9657-1884dfcd127a"
      },
      "execution_count": 3,
      "outputs": [
        {
          "output_type": "stream",
          "name": "stdout",
          "text": [
            "Datos del Estudiante:\n",
            "Nombre: Juan Pérez\n",
            "Edad: 20 años\n"
          ]
        }
      ]
    },
    {
      "cell_type": "code",
      "source": [
        "# 3. La función input() para recibir datos del usuario\n",
        "asignatura_favorita = input(\"¿Cuál es tu asignatura favorita? \")\n",
        "print(f\"¡Qué bien! Tu asignatura favorita es {asignatura_favorita}.\")"
      ],
      "metadata": {
        "colab": {
          "base_uri": "https://localhost:8080/"
        },
        "id": "doidYpnW3pyd",
        "outputId": "33d9d069-0be8-49f1-e014-8778fd725536"
      },
      "execution_count": 4,
      "outputs": [
        {
          "output_type": "stream",
          "name": "stdout",
          "text": [
            "¿Cuál es tu asignatura favorita? python\n",
            "¡Qué bien! Tu asignatura favorita es python.\n"
          ]
        }
      ]
    },
    {
      "cell_type": "markdown",
      "source": [
        "# Ejemplo de operaciones básicas (+, -, *, /)\n",
        "\n"
      ],
      "metadata": {
        "id": "I5MUUG-i6u9H"
      }
    },
    {
      "cell_type": "code",
      "source": [],
      "metadata": {
        "colab": {
          "base_uri": "https://localhost:8080/"
        },
        "id": "ET9t2BOw6t8I",
        "outputId": "4fd2fb39-5b04-487a-8bc2-b073bd13ae5a"
      },
      "execution_count": 5,
      "outputs": [
        {
          "output_type": "stream",
          "name": "stdout",
          "text": [
            "Suma: 10 + 5 = 15\n",
            "Resta: 20 - 7 = 13\n",
            "Multiplicación: 6 * 8 = 48\n",
            "División: 100 / 4 = 25.0\n"
          ]
        }
      ]
    },
    {
      "cell_type": "markdown",
      "source": [
        "# Cálculo de media, mediana y desviación estándar de una lista."
      ],
      "metadata": {
        "id": "jYDvhRme_aTC"
      }
    },
    {
      "cell_type": "code",
      "metadata": {
        "colab": {
          "base_uri": "https://localhost:8080/"
        },
        "id": "8qWj19p03E8l",
        "outputId": "6eccd727-7df6-48d9-d372-42f84bcc8ed9"
      },
      "source": [
        "import statistics # Importa el módulo statistics para realizar cálculos estadísticos\n",
        "\n",
        "# Lista de ejemplo con números\n",
        "numeros = [15, 20, 25, 30, 35, 40, 45, 50]\n",
        "\n",
        "# Calcular la media (promedio) de los números en la lista\n",
        "media = statistics.mean(numeros)\n",
        "print(f\"La media es: {media}\") # Imprime el valor de la media utilizando una f-string\n",
        "\n",
        "# Calcular la mediana (el valor central de la lista ordenada)\n",
        "mediana = statistics.median(numeros)\n",
        "print(f\"La mediana es: {mediana}\") # Imprime el valor de la mediana\n",
        "\n",
        "# Calcular la desviación estándar (una medida de dispersión de los datos)\n",
        "desviacion_estandar = statistics.stdev(numeros)\n",
        "print(f\"La desviación estándar es: {desviacion_estandar}\") # Imprime el valor de la desviación estándar"
      ],
      "execution_count": 6,
      "outputs": [
        {
          "output_type": "stream",
          "name": "stdout",
          "text": [
            "La media es: 32.5\n",
            "La mediana es: 32.5\n",
            "La desviación estándar es: 12.24744871391589\n"
          ]
        }
      ]
    }
  ]
}