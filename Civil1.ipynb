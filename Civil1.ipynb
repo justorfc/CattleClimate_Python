{
  "nbformat": 4,
  "nbformat_minor": 0,
  "metadata": {
    "colab": {
      "provenance": [],
      "authorship_tag": "ABX9TyMSyn0m5Wq0TCU2Spocvtmu",
      "include_colab_link": true
    },
    "kernelspec": {
      "name": "python3",
      "display_name": "Python 3"
    },
    "language_info": {
      "name": "python"
    }
  },
  "cells": [
    {
      "cell_type": "markdown",
      "metadata": {
        "id": "view-in-github",
        "colab_type": "text"
      },
      "source": [
        "<a href=\"https://colab.research.google.com/github/justorfc/CattleClimate_Python/blob/main/Civil1.ipynb\" target=\"_parent\"><img src=\"https://colab.research.google.com/assets/colab-badge.svg\" alt=\"Open In Colab\"/></a>"
      ]
    },
    {
      "cell_type": "markdown",
      "source": [
        "# **que es pi responde en español**\n",
        "\n",
        "Pi (π) es una constante matemática que representa la relación entre la circunferencia de un círculo y su diámetro, aproximadamente igual a 3.14159. Es un número irracional, lo que significa que no puede expresarse como una fracción simple y su representación decimal se extiende infinitamente sin repetirse."
      ],
      "metadata": {
        "id": "9B9j3uszOizs"
      }
    },
    {
      "cell_type": "code",
      "source": [],
      "metadata": {
        "id": "wHNq05uvRwrU"
      },
      "execution_count": null,
      "outputs": []
    },
    {
      "cell_type": "code",
      "metadata": {
        "id": "0f096564",
        "colab": {
          "base_uri": "https://localhost:8080/"
        },
        "outputId": "e16f8999-3131-4ead-c990-b0ee71875c7e"
      },
      "source": [
        "# Introduce el valor de la circunferencia\n",
        "circunferencia = float(input(\"Introduce la circunferencia del círculo: \"))\n",
        "\n",
        "# Introduce el valor del diámetro\n",
        "diametro = float(input(\"Introduce el diámetro del círculo: \"))\n",
        "\n",
        "# Calcula Pi\n",
        "pi_calculado = circunferencia / diametro\n",
        "\n",
        "# Muestra el resultado\n",
        "print(f\"El valor calculado de Pi es: {pi_calculado}\")"
      ],
      "execution_count": 1,
      "outputs": [
        {
          "output_type": "stream",
          "name": "stdout",
          "text": [
            "Introduce el diámetro del círculo: 55\n",
            "El valor calculado de Pi es: 0.7818181818181819\n"
          ]
        }
      ]
    },
    {
      "cell_type": "markdown",
      "source": [
        "¡Claro, Justo! La fórmula de Ramanujan para calcular π es una de las más bellas y sorprendentes en matemáticas. Fue descubierta por el genio indio Srinivasa Ramanujan y se destaca por su rapidez de convergencia, lo que la hace ideal para cálculos de alta precisión.\n",
        "\n",
        "### 🧠 Fórmula de Ramanujan para π\n",
        "\n",
        "Una de sus fórmulas más famosas es:\n",
        "\n",
        "\\[\n",
        "\\frac{1}{\\pi} = \\frac{2\\sqrt{2}}{9801} \\sum_{k=0}^{\\infty} \\frac{(4k)!(1103 + 26390k)}{(k!)^4 \\cdot 396^{4k}}\n",
        "\\]\n",
        "\n",
        "### 🔍 Explicación paso a paso\n",
        "\n",
        "- **\\(\\frac{1}{\\pi}\\)**: La fórmula calcula el inverso de π, por lo que al final debes invertir el resultado para obtener π.\n",
        "- **\\(\\frac{2\\sqrt{2}}{9801}\\)**: Es un factor constante que multiplica toda la serie. Proviene de la teoría de funciones modulares.\n",
        "- **\\(\\sum_{k=0}^{\\infty}\\)**: Es una serie infinita, pero gracias a su rápida convergencia, con pocos términos se obtiene una gran precisión.\n",
        "- **\\((4k)!\\)**: El factorial de \\(4k\\), que crece muy rápido.\n",
        "- **\\(1103 + 26390k\\)**: Un término lineal que cambia con cada iteración.\n",
        "- **\\((k!)^4\\)**: El factorial de \\(k\\) elevado a la cuarta potencia.\n",
        "- **\\(396^{4k}\\)**: Una potencia elevada que ayuda a que la serie converja rápidamente.\n",
        "\n",
        "### ⚡ ¿Por qué es especial?\n",
        "\n",
        "- Con solo **un término**, esta fórmula ya da más de **8 cifras decimales correctas** de π.\n",
        "- Fue utilizada por algoritmos modernos para calcular millones de dígitos de π antes de que se popularizaran otros métodos como el algoritmo de Chudnovsky (que también se basa en ideas de Ramanujan).\n",
        "\n",
        "### 🧪 Ejemplo en Python\n",
        "\n",
        "Ya que estás explorando Python, aquí tienes un fragmento para calcular π usando esta fórmula:\n",
        "\n",
        "```python\n",
        "import math\n",
        "\n",
        "def ramanujan_pi(n_terms):\n",
        "    total = 0\n",
        "    factor = (2 * math.sqrt(2)) / 9801\n",
        "    for k in range(n_terms):\n",
        "        num = math.factorial(4*k) * (1103 + 26390*k)\n",
        "        den = (math.factorial(k)**4) * (396**(4*k))\n",
        "        total += num / den\n",
        "    return 1 / (factor * total)\n",
        "\n",
        "print(ramanujan_pi(1))  # Con solo 1 término\n",
        "```\n",
        "\n",
        "¿Te gustaría que lo adaptemos para calcular más dígitos o visualizar la convergencia paso a paso?"
      ],
      "metadata": {
        "id": "tH-n4ks2SXf_"
      }
    },
    {
      "cell_type": "code",
      "metadata": {
        "id": "568b48a8"
      },
      "source": [
        "import math\n",
        "\n",
        "def calcular_pi_ramanujan(n_terms):\n",
        "    \"\"\"\n",
        "    Calcula una aproximación de Pi utilizando la serie infinita de Ramanujan.\n",
        "\n",
        "    Args:\n",
        "        n_terms: El número de términos a utilizar en la serie.\n",
        "\n",
        "    Returns:\n",
        "        Una aproximación de Pi.\n",
        "    \"\"\"\n",
        "    pi_aproximado = 0\n",
        "    for k in range(n_terms):\n",
        "        numerador = math.factorial(4 * k) * (1103 + 26390 * k)\n",
        "        denominador = (math.factorial(k)**4) * (396**(4 * k))\n",
        "        termino = numerador / denominador\n",
        "        pi_aproximado += termino\n",
        "\n",
        "    constante = (2 * math.sqrt(2)) / 9801\n",
        "    pi_aproximado = 1 / (constante * pi_aproximado)\n",
        "\n",
        "    return pi_aproximado\n",
        "\n",
        "# Número de términos a utilizar (puedes ajustar este valor)\n",
        "n_terms = 10\n",
        "\n",
        "# Calcula Pi utilizando la serie de Ramanujan\n",
        "pi_calculado_ramanujan = calcular_pi_ramanujan(n_terms)\n",
        "\n",
        "# Muestra el resultado\n",
        "print(f\"Aproximación de Pi con la serie de Ramanujan ({n_terms} términos): {pi_calculado_ramanujan}\")"
      ],
      "execution_count": null,
      "outputs": []
    }
  ]
}